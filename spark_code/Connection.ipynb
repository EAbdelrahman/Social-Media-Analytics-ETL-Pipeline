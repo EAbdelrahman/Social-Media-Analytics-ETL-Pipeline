{
 "cells": [
  {
   "cell_type": "code",
   "execution_count": 4,
   "id": "ef462fd5-de7d-4af1-ae7b-ea0449b923be",
   "metadata": {},
   "outputs": [
    {
     "name": "stdout",
     "output_type": "stream",
     "text": [
      "local[*]\n"
     ]
    }
   ],
   "source": [
    "print(spark.sparkContext.master)"
   ]
  },
  {
   "cell_type": "code",
   "execution_count": 2,
   "id": "00f34e35-9fd9-4e47-aaf0-6d1e5862ac38",
   "metadata": {},
   "outputs": [],
   "source": [
    "from pyspark.sql import SparkSession\n",
    "from pyspark.sql.functions import col\n",
    "# Initialize Spark Session\n",
    "spark = SparkSession.builder \\\n",
    "    .appName(\"Load Data to PostgreSQL\") \\\n",
    "    .config(\"spark.jars\", \"/home/jovyan/drivers/postgresql-42.7.3.jar\") \\\n",
    "    .getOrCreate()\n"
   ]
  },
  {
   "cell_type": "code",
   "execution_count": 37,
   "id": "2c06d83f-ddc3-487c-a49e-67244fc5bf8f",
   "metadata": {},
   "outputs": [],
   "source": [
    "# PostgreSQL connection properties\n",
    "url = \"jdbc:postgresql://postgres_warehouse:5432/warehouse\"\n",
    "\n",
    "properties = {\n",
    "    \"user\": \"warehouse\",  \n",
    "    \"password\": \"warehouse\",  \n",
    "    \"driver\": \"org.postgresql.Driver\"\n",
    "}\n"
   ]
  },
  {
   "cell_type": "code",
   "execution_count": 38,
   "id": "4c965347-14b5-4dd7-aeba-4975db7573ee",
   "metadata": {},
   "outputs": [],
   "source": [
    "data = [(\"John\", 30), (\"Jane\", 25), (\"Sam\", 40)]\n",
    "columns = [\"name\", \"age\"]\n",
    "\n",
    "df = spark.createDataFrame(data, columns)"
   ]
  },
  {
   "cell_type": "markdown",
   "id": "07e0ce30-d1c2-4722-bfe3-a7aa80a24786",
   "metadata": {},
   "source": [
    "### Test Connection"
   ]
  },
  {
   "cell_type": "code",
   "execution_count": 42,
   "id": "da3508bb-083b-46d3-a547-6c99d6a89b19",
   "metadata": {},
   "outputs": [
    {
     "name": "stdout",
     "output_type": "stream",
     "text": [
      "Table 'test_table' created and data inserted.\n"
     ]
    }
   ],
   "source": [
    "# Write DataFrame to PostgreSQL\n",
    "try:\n",
    "    df.write.jdbc(url=url, table=\"test_table\", mode=\"overwrite\", properties=properties)\n",
    "    print(\"Table 'test_table' created and data inserted.\")\n",
    "except Exception as e:\n",
    "    print(f\"Error connecting to PostgreSQL: {e}\")"
   ]
  },
  {
   "cell_type": "code",
   "execution_count": 65,
   "id": "e11f52b7-dc0f-44cf-ab8f-17435b1ca049",
   "metadata": {},
   "outputs": [],
   "source": [
    "df = spark.read.csv(\"/home/jovyan/data/Social_Valid.csv\",header=True , inferSchema=True)  "
   ]
  },
  {
   "cell_type": "code",
   "execution_count": 66,
   "id": "55f1b23b-6937-4dd9-a523-bc06c89eb9ae",
   "metadata": {},
   "outputs": [
    {
     "name": "stdout",
     "output_type": "stream",
     "text": [
      "root\n",
      " |-- user_id: string (nullable = true)\n",
      " |-- username: string (nullable = true)\n",
      " |-- age: integer (nullable = true)\n",
      " |-- email: string (nullable = true)\n",
      " |-- gender: string (nullable = true)\n",
      " |-- name: string (nullable = true)\n",
      " |-- date_created: timestamp (nullable = true)\n",
      " |-- post_id: string (nullable = true)\n",
      " |-- post_text: string (nullable = true)\n",
      " |-- location: string (nullable = true)\n",
      " |-- post_timestamp: timestamp (nullable = true)\n",
      " |-- shares: integer (nullable = true)\n",
      " |-- angry: integer (nullable = true)\n",
      " |-- haha: integer (nullable = true)\n",
      " |-- like: integer (nullable = true)\n",
      " |-- love: integer (nullable = true)\n",
      " |-- sad: integer (nullable = true)\n",
      " |-- wow: integer (nullable = true)\n",
      " |-- tags: string (nullable = true)\n",
      " |-- comment_text: string (nullable = true)\n",
      " |-- comment_timestamp: timestamp (nullable = true)\n",
      " |-- comment_user_id: string (nullable = true)\n",
      "\n"
     ]
    }
   ],
   "source": [
    "df.printSchema()"
   ]
  },
  {
   "cell_type": "code",
   "execution_count": 67,
   "id": "3ba02163-04e7-49ea-a89d-4c79c858db33",
   "metadata": {},
   "outputs": [],
   "source": [
    "#from pyspark.sql.functions import monotonically_increasing_id\n",
    "df = df.withColumnRenamed(\"like\", \"like_count\")"
   ]
  },
  {
   "cell_type": "code",
   "execution_count": 68,
   "id": "8f143391-95c1-4a73-8a2e-24626bdd5a4b",
   "metadata": {},
   "outputs": [],
   "source": [
    "# Add surrogate keys to dim_users\n",
    "dim_users_df = df.select(\"user_id\", \"username\", \"age\", \"email\", \"gender\", \"name\", \"date_created\").dropDuplicates()\n"
   ]
  },
  {
   "cell_type": "code",
   "execution_count": 69,
   "id": "58d3f396-620d-44e2-9c7f-434c39c6a6d5",
   "metadata": {},
   "outputs": [],
   "source": [
    "# Add surrogate keys to dim_posts\n",
    "dim_posts_df = df.select(\"post_id\", \"post_text\", \"location\", \"post_timestamp\", \"tags\").dropDuplicates()\n"
   ]
  },
  {
   "cell_type": "code",
   "execution_count": 74,
   "id": "56c64fd2-eafd-4cbe-b578-8a6eb0be2829",
   "metadata": {},
   "outputs": [],
   "source": [
    "\n",
    "# Write the DataFrame to the PostgreSQL table 'dim_users'\n",
    "dim_users_df.write \\\n",
    "    .format(\"jdbc\") \\\n",
    "    .option(\"url\", url) \\\n",
    "    .option(\"dbtable\", \"dim_users\") \\\n",
    "    .option(\"user\", \"warehouse\") \\\n",
    "    .option(\"password\", \"warehouse\") \\\n",
    "    .option(\"driver\", \"org.postgresql.Driver\") \\\n",
    "    .mode(\"append\") \\\n",
    "    .save()"
   ]
  },
  {
   "cell_type": "code",
   "execution_count": 75,
   "id": "67e356a3-705b-41a8-acf1-170f04e64a87",
   "metadata": {},
   "outputs": [],
   "source": [
    "dim_posts_df.write \\\n",
    "    .format(\"jdbc\") \\\n",
    "    .option(\"url\", url) \\\n",
    "    .option(\"dbtable\", \"dim_posts\") \\\n",
    "    .option(\"user\", \"warehouse\") \\\n",
    "    .option(\"password\", \"warehouse\") \\\n",
    "    .option(\"driver\", \"org.postgresql.Driver\") \\\n",
    "    .mode(\"append\") \\\n",
    "    .save()"
   ]
  },
  {
   "cell_type": "code",
   "execution_count": 98,
   "id": "5040ea02-e9df-4f50-acf8-42a1da74678e",
   "metadata": {},
   "outputs": [],
   "source": [
    "dim_users_with_sk = spark.read \\\n",
    "    .format(\"jdbc\") \\\n",
    "    .option(\"url\", url) \\\n",
    "    .option(\"dbtable\", \"dim_users\") \\\n",
    "    .option(\"user\", \"warehouse\") \\\n",
    "    .option(\"password\", \"warehouse\") \\\n",
    "    .option(\"driver\", \"org.postgresql.Driver\") \\\n",
    "    .load()\n"
   ]
  },
  {
   "cell_type": "code",
   "execution_count": 99,
   "id": "485b587d-e1e7-45d0-84bf-d3d0efd39267",
   "metadata": {},
   "outputs": [],
   "source": [
    "dim_posts_with_sk = spark.read \\\n",
    "    .format(\"jdbc\") \\\n",
    "    .option(\"url\", url) \\\n",
    "    .option(\"dbtable\", \"dim_posts\") \\\n",
    "    .option(\"user\", \"warehouse\") \\\n",
    "    .option(\"password\", \"warehouse\") \\\n",
    "    .option(\"driver\", \"org.postgresql.Driver\") \\\n",
    "    .load()"
   ]
  },
  {
   "cell_type": "code",
   "execution_count": 100,
   "id": "70ede191-2e43-4f2b-bcba-245a53a304f3",
   "metadata": {},
   "outputs": [],
   "source": [
    "fact_post_interactions_df = df \\\n",
    "    .join(dim_users_with_sk.alias(\"main_user\"), df[\"user_id\"] == col(\"main_user.user_id\"), \"inner\") \\\n",
    "    .join(dim_posts_with_sk.alias(\"post\"), df[\"post_id\"] == col(\"post.post_id\"), \"inner\")\n",
    "\n",
    "# Join again with dim_users to map `comment_user_id` to `comment_user_sk`\n",
    "fact_post_interactions_df = fact_post_interactions_df \\\n",
    "    .join(dim_users_with_sk.alias(\"comment_user\"), fact_post_interactions_df[\"comment_user_id\"] == col(\"comment_user.user_id\"), \"left\") \\\n",
    "    .select(col(\"post.post_sk\").alias(\"post_sk\"), \n",
    "            col(\"main_user.user_sk\").alias(\"user_sk\"), \n",
    "            \"shares\", \"angry\", \"haha\", \"like_count\", \"love\", \"sad\", \"wow\", \n",
    "            col(\"comment_user.user_sk\").alias(\"comment_user_sk\"), \n",
    "            \"comment_text\", \"comment_timestamp\")"
   ]
  },
  {
   "cell_type": "code",
   "execution_count": 100,
   "id": "1dd87fbc-bf34-4bed-8949-e21de2e83830",
   "metadata": {},
   "outputs": [],
   "source": [
    "fact_post_interactions_df = df \\\n",
    "    .join(dim_users_with_sk.alias(\"main_user\"), df[\"user_id\"] == col(\"main_user.user_id\"), \"inner\") \\\n",
    "    .join(dim_posts_with_sk.alias(\"post\"), df[\"post_id\"] == col(\"post.post_id\"), \"inner\")\n",
    "\n",
    "# Join again with dim_users to map `comment_user_id` to `comment_user_sk`\n",
    "fact_post_interactions_df = fact_post_interactions_df \\\n",
    "    .join(dim_users_with_sk.alias(\"comment_user\"), fact_post_interactions_df[\"comment_user_id\"] == col(\"comment_user.user_id\"), \"left\") \\\n",
    "    .select(col(\"post.post_sk\").alias(\"post_sk\"), \n",
    "            col(\"main_user.user_sk\").alias(\"user_sk\"), \n",
    "            \"shares\", \"angry\", \"haha\", \"like_count\", \"love\", \"sad\", \"wow\", \n",
    "            col(\"comment_user.user_sk\").alias(\"comment_user_sk\"), \n",
    "            \"comment_text\", \"comment_timestamp\")"
   ]
  },
  {
   "cell_type": "code",
   "execution_count": 101,
   "id": "e98c4bad-1f5a-4e37-9bcb-92394c9e397f",
   "metadata": {},
   "outputs": [
    {
     "name": "stdout",
     "output_type": "stream",
     "text": [
      "root\n",
      " |-- post_sk: integer (nullable = true)\n",
      " |-- user_sk: integer (nullable = true)\n",
      " |-- shares: integer (nullable = true)\n",
      " |-- angry: integer (nullable = true)\n",
      " |-- haha: integer (nullable = true)\n",
      " |-- like_count: integer (nullable = true)\n",
      " |-- love: integer (nullable = true)\n",
      " |-- sad: integer (nullable = true)\n",
      " |-- wow: integer (nullable = true)\n",
      " |-- comment_user_sk: integer (nullable = true)\n",
      " |-- comment_text: string (nullable = true)\n",
      " |-- comment_timestamp: timestamp (nullable = true)\n",
      "\n"
     ]
    }
   ],
   "source": [
    "fact_post_interactions_df.printSchema()"
   ]
  },
  {
   "cell_type": "code",
   "execution_count": 102,
   "id": "cc9636c9-58e7-47c3-aea7-7cb535c71f56",
   "metadata": {},
   "outputs": [],
   "source": [
    "# Write the DataFrame to PostgreSQL's fact_post_interactions table\n",
    "fact_post_interactions_df.write \\\n",
    "    .format(\"jdbc\") \\\n",
    "    .option(\"url\", url) \\\n",
    "    .option(\"dbtable\", \"fact_post_interactions\") \\\n",
    "    .option(\"user\", \"warehouse\") \\\n",
    "    .option(\"password\", \"warehouse\") \\\n",
    "    .option(\"driver\", \"org.postgresql.Driver\") \\\n",
    "    .mode(\"append\") \\\n",
    "    .save()"
   ]
  }
 ],
 "metadata": {
  "kernelspec": {
   "display_name": "Python 3 (ipykernel)",
   "language": "python",
   "name": "python3"
  },
  "language_info": {
   "codemirror_mode": {
    "name": "ipython",
    "version": 3
   },
   "file_extension": ".py",
   "mimetype": "text/x-python",
   "name": "python",
   "nbconvert_exporter": "python",
   "pygments_lexer": "ipython3",
   "version": "3.11.6"
  }
 },
 "nbformat": 4,
 "nbformat_minor": 5
}
