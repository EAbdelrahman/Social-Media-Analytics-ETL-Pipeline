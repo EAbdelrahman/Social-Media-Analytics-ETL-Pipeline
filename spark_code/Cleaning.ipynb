{
 "cells": [
  {
   "cell_type": "code",
   "execution_count": 1,
   "id": "6a253bd1-a018-4bf4-835a-759d0008baa6",
   "metadata": {},
   "outputs": [],
   "source": [
    "from pyspark.sql import SparkSession\n",
    "from pyspark.sql.functions import avg, to_timestamp\n",
    "\n",
    "# Initialize Spark session\n",
    "spark = SparkSession.builder.appName(\"Clean CSV Data with Age Handling\").getOrCreate()\n",
    "\n",
    "# Read the CSV file\n",
    "df = spark.read.option(\"header\", True).csv(\"/home/jovyan/data/Social.csv\")\n",
    "\n"
   ]
  },
  {
   "cell_type": "code",
   "execution_count": 2,
   "id": "c94b4aea-42d7-42d5-aa90-84f3f9fe3949",
   "metadata": {},
   "outputs": [
    {
     "name": "stdout",
     "output_type": "stream",
     "text": [
      "root\n",
      " |-- user_id: string (nullable = true)\n",
      " |-- username: string (nullable = true)\n",
      " |-- age: string (nullable = true)\n",
      " |-- email: string (nullable = true)\n",
      " |-- gender: string (nullable = true)\n",
      " |-- name: string (nullable = true)\n",
      " |-- date_created: string (nullable = true)\n",
      " |-- post_id: string (nullable = true)\n",
      " |-- post_text: string (nullable = true)\n",
      " |-- location: string (nullable = true)\n",
      " |-- post_timestamp: string (nullable = true)\n",
      " |-- shares: string (nullable = true)\n",
      " |-- angry: string (nullable = true)\n",
      " |-- haha: string (nullable = true)\n",
      " |-- like: string (nullable = true)\n",
      " |-- love: string (nullable = true)\n",
      " |-- sad: string (nullable = true)\n",
      " |-- wow: string (nullable = true)\n",
      " |-- tags: string (nullable = true)\n",
      " |-- comment_text: string (nullable = true)\n",
      " |-- comment_timestamp: string (nullable = true)\n",
      " |-- comment_user_id: string (nullable = true)\n",
      "\n"
     ]
    }
   ],
   "source": [
    "df.printSchema()"
   ]
  },
  {
   "cell_type": "code",
   "execution_count": 3,
   "id": "11c7183f-826a-410c-86bd-30c6184eaed0",
   "metadata": {},
   "outputs": [],
   "source": [
    "# Convert fields to the correct data types\n",
    "df = df.withColumn(\"age\", df[\"age\"].cast(\"integer\"))\n",
    "df = df.withColumn(\"date_created\",to_timestamp(\"date_created\", \"yyyy-MM-dd HH:mm:ss\"))\n",
    "df = df.withColumn(\"shares\", df[\"shares\"].cast(\"integer\"))\n",
    "df = df.withColumn(\"angry\", df[\"angry\"].cast(\"integer\"))\n",
    "df = df.withColumn(\"haha\", df[\"haha\"].cast(\"integer\"))\n",
    "df = df.withColumn(\"like\", df[\"like\"].cast(\"integer\"))\n",
    "df = df.withColumn(\"love\", df[\"love\"].cast(\"integer\"))\n",
    "df = df.withColumn(\"sad\", df[\"sad\"].cast(\"integer\"))\n",
    "df = df.withColumn(\"wow\", df[\"wow\"].cast(\"integer\"))\n",
    "df = df.withColumn(\"post_timestamp\", to_timestamp(\"post_timestamp\", \"yyyy-MM-dd HH:mm:ss\"))\n",
    "df = df.withColumn(\"comment_timestamp\", to_timestamp(\"comment_timestamp\", \"yyyy-MM-dd HH:mm:ss\"))\n",
    "\n"
   ]
  },
  {
   "cell_type": "code",
   "execution_count": 4,
   "id": "95e2e47b-c802-4006-b2f2-3d4a36448b7a",
   "metadata": {},
   "outputs": [
    {
     "name": "stdout",
     "output_type": "stream",
     "text": [
      "root\n",
      " |-- user_id: string (nullable = true)\n",
      " |-- username: string (nullable = true)\n",
      " |-- age: integer (nullable = true)\n",
      " |-- email: string (nullable = true)\n",
      " |-- gender: string (nullable = true)\n",
      " |-- name: string (nullable = true)\n",
      " |-- date_created: timestamp (nullable = true)\n",
      " |-- post_id: string (nullable = true)\n",
      " |-- post_text: string (nullable = true)\n",
      " |-- location: string (nullable = true)\n",
      " |-- post_timestamp: timestamp (nullable = true)\n",
      " |-- shares: integer (nullable = true)\n",
      " |-- angry: integer (nullable = true)\n",
      " |-- haha: integer (nullable = true)\n",
      " |-- like: integer (nullable = true)\n",
      " |-- love: integer (nullable = true)\n",
      " |-- sad: integer (nullable = true)\n",
      " |-- wow: integer (nullable = true)\n",
      " |-- tags: string (nullable = true)\n",
      " |-- comment_text: string (nullable = true)\n",
      " |-- comment_timestamp: timestamp (nullable = true)\n",
      " |-- comment_user_id: string (nullable = true)\n",
      "\n"
     ]
    }
   ],
   "source": [
    "df.printSchema()"
   ]
  },
  {
   "cell_type": "code",
   "execution_count": 6,
   "id": "fd3594e3-a7d0-45f2-ae19-62a240d18eb3",
   "metadata": {
    "scrolled": true
   },
   "outputs": [
    {
     "name": "stdout",
     "output_type": "stream",
     "text": [
      "+------------------------------------+--------------+---+------------------------+------+-------------+-------------------+------------------------------------+-------------------------------------------------------------------------------------------------------------------------------------------------------------+--------+-------------------+------+-----+----+----+----+---+---+--------------------+-----------------------------------------------------+-------------------+------------------------------------+\n",
      "|user_id                             |username      |age|email                   |gender|name         |date_created       |post_id                             |post_text                                                                                                                                                    |location|post_timestamp     |shares|angry|haha|like|love|sad|wow|tags                |comment_text                                         |comment_timestamp  |comment_user_id                     |\n",
      "+------------------------------------+--------------+---+------------------------+------+-------------+-------------------+------------------------------------+-------------------------------------------------------------------------------------------------------------------------------------------------------------+--------+-------------------+------+-----+----+----+----+---+---+--------------------+-----------------------------------------------------+-------------------+------------------------------------+\n",
      "|4b30cfe3-d4af-4fca-a832-7d206ec7bc7b|courtney76    |32 |daviskrista@example.net |male  |Joseph Santos|2015-07-16 14:57:48|e47dcbb7-ddf9-48cb-8b47-ab2cc85b5b8e|Church claim blood open minute arrive good.                                                                                                                  |NULL    |2022-10-08 01:41:04|2     |0    |0   |0   |0   |0  |0  |art                 |Citizen production decade term lay seven behind.     |2014-02-10 03:52:11|d36126d3-cdaa-41a3-9b24-436d90a6c8e3|\n",
      "|4b30cfe3-d4af-4fca-a832-7d206ec7bc7b|courtney76    |32 |daviskrista@example.net |male  |Joseph Santos|2015-07-16 14:57:48|e47dcbb7-ddf9-48cb-8b47-ab2cc85b5b8e|Church claim blood open minute arrive good.                                                                                                                  |NULL    |2022-10-08 01:41:04|2     |0    |0   |0   |0   |0  |0  |art                 |Field piece garden well others money sign.           |2019-11-17 12:23:03|34b6b3f1-02d6-4170-ac65-8afb02197400|\n",
      "|4b30cfe3-d4af-4fca-a832-7d206ec7bc7b|courtney76    |32 |daviskrista@example.net |male  |Joseph Santos|2015-07-16 14:57:48|e47dcbb7-ddf9-48cb-8b47-ab2cc85b5b8e|Church claim blood open minute arrive good.                                                                                                                  |NULL    |2022-10-08 01:41:04|2     |0    |0   |0   |0   |0  |0  |art                 |With decision lawyer matter easy she.                |2021-01-12 08:46:48|2cee5448-9069-49fa-be4f-51e4631f84e6|\n",
      "|4b30cfe3-d4af-4fca-a832-7d206ec7bc7b|courtney76    |32 |daviskrista@example.net |male  |Joseph Santos|2015-07-16 14:57:48|e47dcbb7-ddf9-48cb-8b47-ab2cc85b5b8e|Church claim blood open minute arrive good.                                                                                                                  |NULL    |2022-10-08 01:41:04|2     |0    |0   |0   |0   |0  |0  |art                 |Along agreement arrive since.                        |2022-12-05 07:35:54|8a222916-ddb3-4c10-87d5-26992518d062|\n",
      "|4b30cfe3-d4af-4fca-a832-7d206ec7bc7b|courtney76    |32 |daviskrista@example.net |male  |Joseph Santos|2015-07-16 14:57:48|6cb5bc0e-7548-44eb-901f-6e7028e63f10|Behind practice low poor beautiful agency today. This performance process manager church task.                                                               |Sydney  |2020-05-04 18:50:50|94    |0    |0   |0   |270 |0  |100|tech,fashion,science|Join respond win evidence theory such put.           |2014-04-01 06:50:05|83f1199f-bd9f-4a69-9443-8a6d0f166ef2|\n",
      "|4b30cfe3-d4af-4fca-a832-7d206ec7bc7b|courtney76    |32 |daviskrista@example.net |male  |Joseph Santos|2015-07-16 14:57:48|6cb5bc0e-7548-44eb-901f-6e7028e63f10|Behind practice low poor beautiful agency today. This performance process manager church task.                                                               |Sydney  |2020-05-04 18:50:50|94    |0    |0   |0   |270 |0  |100|tech,fashion,science|Early performance third data end.                    |2013-03-27 01:58:55|20d4d6cd-baba-4177-ade7-7a64df94b7e3|\n",
      "|4b30cfe3-d4af-4fca-a832-7d206ec7bc7b|courtney76    |32 |daviskrista@example.net |male  |Joseph Santos|2015-07-16 14:57:48|6cb5bc0e-7548-44eb-901f-6e7028e63f10|Behind practice low poor beautiful agency today. This performance process manager church task.                                                               |Sydney  |2020-05-04 18:50:50|94    |0    |0   |0   |270 |0  |100|tech,fashion,science|Organization another everyone appear unit small free.|2023-06-10 16:09:37|7d5adfb0-f724-4764-9e7b-7c76f195de4c|\n",
      "|4b30cfe3-d4af-4fca-a832-7d206ec7bc7b|courtney76    |32 |daviskrista@example.net |male  |Joseph Santos|2015-07-16 14:57:48|6cb5bc0e-7548-44eb-901f-6e7028e63f10|Behind practice low poor beautiful agency today. This performance process manager church task.                                                               |Sydney  |2020-05-04 18:50:50|94    |0    |0   |0   |270 |0  |100|tech,fashion,science|Add account success evening seat find prepare.       |2023-06-25 17:23:10|4fe13c30-1b2c-4e2b-91f8-c057731b027a|\n",
      "|4b30cfe3-d4af-4fca-a832-7d206ec7bc7b|courtney76    |32 |daviskrista@example.net |male  |Joseph Santos|2015-07-16 14:57:48|4362b53c-03a6-4961-8da3-38be2995f650|Watch hospital mind media late eat some identify. Debate year blue here president their. Range great her.                                                    |Tokyo   |2018-01-17 04:24:21|47    |0    |0   |0   |0   |0  |0  |NULL                |At speak close age air.                              |2012-01-20 12:19:41|5d1ec4c5-9ae3-4685-a307-d3b536d032e7|\n",
      "|4b30cfe3-d4af-4fca-a832-7d206ec7bc7b|courtney76    |32 |daviskrista@example.net |male  |Joseph Santos|2015-07-16 14:57:48|6ad79fe5-b4ad-4cf5-b7e6-1f374ef184e1|Daughter bring street reality. Suffer sit no yet red degree agency market.                                                                                   |Tokyo   |2023-02-08 22:33:06|20    |0    |0   |0   |0   |0  |0  |art,tech,sports     |Town cup take almost deal.                           |2016-02-05 03:08:10|7658e6ab-45df-4968-92b9-5863303117c2|\n",
      "|4b30cfe3-d4af-4fca-a832-7d206ec7bc7b|courtney76    |32 |daviskrista@example.net |male  |Joseph Santos|2015-07-16 14:57:48|6ad79fe5-b4ad-4cf5-b7e6-1f374ef184e1|Daughter bring street reality. Suffer sit no yet red degree agency market.                                                                                   |Tokyo   |2023-02-08 22:33:06|20    |0    |0   |0   |0   |0  |0  |art,tech,sports     |Half responsibility upon argue fill.                 |2019-02-03 13:42:08|3a1c7930-d553-4f61-a1a3-b6b2e56a269f|\n",
      "|4b30cfe3-d4af-4fca-a832-7d206ec7bc7b|courtney76    |32 |daviskrista@example.net |male  |Joseph Santos|2015-07-16 14:57:48|62507fb3-17bc-480b-bfcc-723192ef87eb|Woman get information their fact growth. Door wonder reason six what citizen space news. Serious budget star try type allow. Great laugh executive model bed.|NULL    |2021-03-16 10:25:33|0     |0    |0   |0   |283 |80 |0  |food                |Camera let take either rich.                         |2016-07-24 15:20:03|dad999e5-31cf-4aef-956b-64018494d4bc|\n",
      "|4b30cfe3-d4af-4fca-a832-7d206ec7bc7b|courtney76    |32 |daviskrista@example.net |male  |Joseph Santos|2015-07-16 14:57:48|62507fb3-17bc-480b-bfcc-723192ef87eb|Woman get information their fact growth. Door wonder reason six what citizen space news. Serious budget star try type allow. Great laugh executive model bed.|NULL    |2021-03-16 10:25:33|0     |0    |0   |0   |283 |80 |0  |food                |Social factor simply baby.                           |2011-05-11 09:07:46|3fef7983-f69d-4fe9-9cb5-ab4e9cbf9fc3|\n",
      "|4b30cfe3-d4af-4fca-a832-7d206ec7bc7b|courtney76    |32 |daviskrista@example.net |male  |Joseph Santos|2015-07-16 14:57:48|62507fb3-17bc-480b-bfcc-723192ef87eb|Woman get information their fact growth. Door wonder reason six what citizen space news. Serious budget star try type allow. Great laugh executive model bed.|NULL    |2021-03-16 10:25:33|0     |0    |0   |0   |283 |80 |0  |food                |To picture staff deal speech off power.              |2024-04-02 04:17:51|8e200bbb-d1f9-4e61-8cb6-b4925a9400ad|\n",
      "|4b30cfe3-d4af-4fca-a832-7d206ec7bc7b|courtney76    |32 |daviskrista@example.net |male  |Joseph Santos|2015-07-16 14:57:48|f6ee982f-b47d-4f12-b373-bf8e565349cd|You audience type wide. Range center degree.                                                                                                                 |New York|2011-01-05 20:09:42|0     |0    |0   |0   |0   |0  |0  |NULL                |Today watch still which radio million.               |2013-12-14 02:34:15|97a387a1-7b43-4d08-a71c-70ff1c37ff30|\n",
      "|4b30cfe3-d4af-4fca-a832-7d206ec7bc7b|courtney76    |32 |daviskrista@example.net |male  |Joseph Santos|2015-07-16 14:57:48|f6ee982f-b47d-4f12-b373-bf8e565349cd|You audience type wide. Range center degree.                                                                                                                 |New York|2011-01-05 20:09:42|0     |0    |0   |0   |0   |0  |0  |NULL                |Individual message seem.                             |2018-02-28 15:54:54|adcbd5f4-8eb3-413a-ab75-00537838ffd5|\n",
      "|4b30cfe3-d4af-4fca-a832-7d206ec7bc7b|courtney76    |32 |daviskrista@example.net |male  |Joseph Santos|2015-07-16 14:57:48|f6ee982f-b47d-4f12-b373-bf8e565349cd|You audience type wide. Range center degree.                                                                                                                 |New York|2011-01-05 20:09:42|0     |0    |0   |0   |0   |0  |0  |NULL                |Difference especially natural do.                    |2016-04-10 20:35:30|0cb37416-ad18-4a2b-b764-ec5a37937ff3|\n",
      "|e5577616-a1ea-45ef-8166-6d42ce255579|richardgoodwin|36 |ruthgonzalez@example.net|female|Brandy Phelps|2023-03-25 19:40:01|1c38817f-7493-4200-9604-4c9171b084f8|Drop treat provide claim student all difficult. Republican recently summer act your also read clearly.                                                       |Paris   |2023-02-18 17:45:34|35    |497  |439 |74  |315 |274|265|food,sports,music   |Less support beat tend.                              |2012-11-28 23:04:27|a1d1f4cf-c328-4321-a37f-5b188d1304d5|\n",
      "|e5577616-a1ea-45ef-8166-6d42ce255579|richardgoodwin|36 |ruthgonzalez@example.net|female|Brandy Phelps|2023-03-25 19:40:01|1c38817f-7493-4200-9604-4c9171b084f8|Drop treat provide claim student all difficult. Republican recently summer act your also read clearly.                                                       |Paris   |2023-02-18 17:45:34|35    |497  |439 |74  |315 |274|265|food,sports,music   |Course least think sort technology.                  |2013-11-06 00:25:57|f32b9f46-8512-4d3b-af95-e2d18b8e2140|\n",
      "|e5577616-a1ea-45ef-8166-6d42ce255579|richardgoodwin|36 |ruthgonzalez@example.net|female|Brandy Phelps|2023-03-25 19:40:01|1c38817f-7493-4200-9604-4c9171b084f8|Drop treat provide claim student all difficult. Republican recently summer act your also read clearly.                                                       |Paris   |2023-02-18 17:45:34|35    |497  |439 |74  |315 |274|265|food,sports,music   |Theory response home moment image believe.           |2018-12-22 08:45:59|e7470247-4ec5-457c-ab0c-c0bf26f0dc6e|\n",
      "+------------------------------------+--------------+---+------------------------+------+-------------+-------------------+------------------------------------+-------------------------------------------------------------------------------------------------------------------------------------------------------------+--------+-------------------+------+-----+----+----+----+---+---+--------------------+-----------------------------------------------------+-------------------+------------------------------------+\n",
      "only showing top 20 rows\n",
      "\n"
     ]
    }
   ],
   "source": [
    "# Drop rows with missing critical fields like user_id, post_id\n",
    "df_cleaned = df.na.drop(subset=[\"user_id\", \"post_id\"])\n",
    "\n",
    "# Fill null values in reaction columns with 0\n",
    "df_cleaned = df_cleaned.fillna({\n",
    "    \"shares\": 0,\n",
    "    \"angry\": 0,\n",
    "    \"haha\": 0,\n",
    "    \"like\": 0,\n",
    "    \"love\": 0,\n",
    "    \"sad\": 0,\n",
    "    \"wow\": 0\n",
    "})\n",
    "\n",
    "# Fill missing comments with an empty string\n",
    "df_cleaned = df_cleaned.fillna({\n",
    "    \"comment_text\": \"\",\n",
    "    \"comment_user_id\": \"\"\n",
    "})\n",
    "\n",
    "# Calculate the median age\n",
    "age_median = df.approxQuantile(\"age\", [0.5], 0.01)[0]\n",
    "\n",
    "# Fill missing ages with the median age\n",
    "df_cleaned = df_cleaned.fillna({\"age\": age_median})\n",
    "\n",
    "# Show the cleaned DataFrame\n",
    "df_cleaned.show(truncate=False)\n",
    "\n",
    "\n"
   ]
  },
  {
   "cell_type": "code",
   "execution_count": 7,
   "id": "30e0c4dc-ae17-42bd-a738-ea14762609fa",
   "metadata": {},
   "outputs": [],
   "source": [
    "# Save the cleaned data to a new CSV file\n",
    "df_cleaned.write.option(\"header\", True).csv(\"/home/jovyan/data/Social_cleaned.csv\")"
   ]
  }
 ],
 "metadata": {
  "kernelspec": {
   "display_name": "Python 3 (ipykernel)",
   "language": "python",
   "name": "python3"
  },
  "language_info": {
   "codemirror_mode": {
    "name": "ipython",
    "version": 3
   },
   "file_extension": ".py",
   "mimetype": "text/x-python",
   "name": "python",
   "nbconvert_exporter": "python",
   "pygments_lexer": "ipython3",
   "version": "3.11.6"
  }
 },
 "nbformat": 4,
 "nbformat_minor": 5
}
