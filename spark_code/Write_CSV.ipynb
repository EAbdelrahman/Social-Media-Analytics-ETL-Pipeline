{
 "cells": [
  {
   "cell_type": "code",
   "execution_count": 9,
   "id": "f7d430e3-7950-463b-9d07-6f8a1ccb57c7",
   "metadata": {},
   "outputs": [],
   "source": [
    "file_path=\"/home/jovyan/data/social_media_info.json\""
   ]
  },
  {
   "cell_type": "code",
   "execution_count": 21,
   "id": "7e136dd2-1d83-4896-9cb6-b8208e8ac885",
   "metadata": {},
   "outputs": [],
   "source": [
    "from pyspark.sql import SparkSession\n",
    "from pyspark.sql.functions import explode, col, concat_ws\n",
    "\n",
    "# Initialize Spark session\n",
    "spark = SparkSession.builder.appName(\"Flatten JSON to CSV\").getOrCreate()\n",
    "\n",
    "# Read the JSON file\n",
    "df = spark.read.option(\"multiline\", \"true\").json(file_path)\n",
    "\n",
    "df_flattened_posts = df.withColumn(\"post\", explode(df.posts)).drop(\"posts\")\n",
    "# Step 1: Flatten the 'post' struct fields into individual columns\n",
    "df_flattened_posts = df_flattened_posts.select(\n",
    "    \"user_id\",  # Main user_id\n",
    "    \"username\", \n",
    "    \"age\", \n",
    "    \"email\", \n",
    "    \"gender\", \n",
    "    \"name\", \n",
    "    \"date_created\",\n",
    "    col(\"post.post_id\").alias(\"post_id\"), \n",
    "    col(\"post.post_text\").alias(\"post_text\"), \n",
    "    col(\"post.location\").alias(\"location\"), \n",
    "    col(\"post.timestamp\").alias(\"post_timestamp\"), \n",
    "    col(\"post.shares\").alias(\"shares\"),\n",
    "    col(\"post.reactions.angry\").alias(\"angry\"), \n",
    "    col(\"post.reactions.haha\").alias(\"haha\"), \n",
    "    col(\"post.reactions.like\").alias(\"like\"), \n",
    "    col(\"post.reactions.love\").alias(\"love\"), \n",
    "    col(\"post.reactions.sad\").alias(\"sad\"), \n",
    "    col(\"post.reactions.wow\").alias(\"wow\"),\n",
    "    concat_ws(\",\", col(\"post.tags\")).alias(\"tags\"),  # Convert ARRAY<STRING> to STRING using a comma separator\n",
    "    col(\"post.comments\").alias(\"comments\")  # Alias the 'comments' array for easier handling\n",
    ")\n",
    "\n",
    "# Step 2: Explode the 'comments' array\n",
    "df_flattened_comments = df_flattened_posts.withColumn(\"comment\", explode(col(\"comments\")))\n",
    "\n",
    "# Step 3: Select relevant fields and rename 'user_id' from 'comments' to avoid conflicts\n",
    "df_final = df_flattened_comments.select(\n",
    "    \"user_id\",  # Keep the original user_id\n",
    "    \"username\", \n",
    "    \"age\", \n",
    "    \"email\", \n",
    "    \"gender\", \n",
    "    \"name\", \n",
    "    \"date_created\",\n",
    "    \"post_id\", \n",
    "    \"post_text\", \n",
    "    \"location\", \n",
    "    \"post_timestamp\", \n",
    "    \"shares\",\n",
    "    \"angry\", \n",
    "    \"haha\", \n",
    "    \"like\", \n",
    "    \"love\", \n",
    "    \"sad\", \n",
    "    \"wow\", \n",
    "    \"tags\",  # Flattened 'tags' array as a string\n",
    "    col(\"comment.comment\").alias(\"comment_text\"),  # Rename the 'comment' field for clarity\n",
    "    col(\"comment.timestamp\").alias(\"comment_timestamp\"), \n",
    "    col(\"comment.user_id\").alias(\"comment_user_id\")  # Rename this to avoid conflict with original 'user_id'\n",
    ")\n",
    "\n",
    "# Step 4: Write the final flattened DataFrame to a CSV file\n",
    "df_final.write.option(\"header\", True).csv(\"/home/jovyan/data/Social.csv\")\n"
   ]
  },
  {
   "cell_type": "code",
   "execution_count": null,
   "id": "75eb598e-e6b5-431c-8ba7-07b584ade9a2",
   "metadata": {},
   "outputs": [],
   "source": []
  }
 ],
 "metadata": {
  "kernelspec": {
   "display_name": "Python 3 (ipykernel)",
   "language": "python",
   "name": "python3"
  },
  "language_info": {
   "codemirror_mode": {
    "name": "ipython",
    "version": 3
   },
   "file_extension": ".py",
   "mimetype": "text/x-python",
   "name": "python",
   "nbconvert_exporter": "python",
   "pygments_lexer": "ipython3",
   "version": "3.11.6"
  }
 },
 "nbformat": 4,
 "nbformat_minor": 5
}
